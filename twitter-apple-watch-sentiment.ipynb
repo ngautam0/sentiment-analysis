{
 "cells": [
  {
   "cell_type": "markdown",
   "metadata": {},
   "source": [
    "# Perform sentiment analysis\n",
    "\n",
    "- Rule based\n",
    "- Data is from twitter\n",
    "- on Apple watch"
   ]
  },
  {
   "cell_type": "code",
   "execution_count": 3,
   "metadata": {},
   "outputs": [],
   "source": [
    "import tweepy\n",
    "import pandas as pd\n",
    "from nltk.sentiment.vader import SentimentIntensityAnalyzer"
   ]
  },
  {
   "cell_type": "code",
   "execution_count": 4,
   "metadata": {},
   "outputs": [],
   "source": [
    "#Twitter API Authentication Variables\n",
    "consumer_key = ''\n",
    "consumer_secret = ''\n",
    "access_token = ''\n",
    "access_token_secret = ''"
   ]
  },
  {
   "cell_type": "code",
   "execution_count": 13,
   "metadata": {},
   "outputs": [
    {
     "data": {
      "text/html": [
       "<div>\n",
       "<style scoped>\n",
       "    .dataframe tbody tr th:only-of-type {\n",
       "        vertical-align: middle;\n",
       "    }\n",
       "\n",
       "    .dataframe tbody tr th {\n",
       "        vertical-align: top;\n",
       "    }\n",
       "\n",
       "    .dataframe thead th {\n",
       "        text-align: right;\n",
       "    }\n",
       "</style>\n",
       "<table border=\"1\" class=\"dataframe\">\n",
       "  <thead>\n",
       "    <tr style=\"text-align: right;\">\n",
       "      <th></th>\n",
       "      <th>Tweets</th>\n",
       "    </tr>\n",
       "  </thead>\n",
       "  <tbody>\n",
       "    <tr>\n",
       "      <th>0</th>\n",
       "      <td>@serrebi Oh yes, that's one of the great thing...</td>\n",
       "    </tr>\n",
       "    <tr>\n",
       "      <th>1</th>\n",
       "      <td>I liked a @YouTube video https://t.co/kJHxQMU7...</td>\n",
       "    </tr>\n",
       "    <tr>\n",
       "      <th>2</th>\n",
       "      <td>RT @JeepdoBrasil: O Jeep Compass foi feito par...</td>\n",
       "    </tr>\n",
       "    <tr>\n",
       "      <th>3</th>\n",
       "      <td>RT @jimcramer: 5 things @EricJhonsa is watchin...</td>\n",
       "    </tr>\n",
       "    <tr>\n",
       "      <th>4</th>\n",
       "      <td>i wanna apple watch</td>\n",
       "    </tr>\n",
       "    <tr>\n",
       "      <th>5</th>\n",
       "      <td>RT @chickswithcrits: EP 14\\nThe group are afte...</td>\n",
       "    </tr>\n",
       "    <tr>\n",
       "      <th>6</th>\n",
       "      <td>hurry up&amp;gt;&amp;gt;\\n20% OFF when you spend $65+ ...</td>\n",
       "    </tr>\n",
       "    <tr>\n",
       "      <th>7</th>\n",
       "      <td>Why Apple's AirPods Are So Popular https://t.c...</td>\n",
       "    </tr>\n",
       "    <tr>\n",
       "      <th>8</th>\n",
       "      <td>@watchtapp Thank you for the last update! I li...</td>\n",
       "    </tr>\n",
       "    <tr>\n",
       "      <th>9</th>\n",
       "      <td>RT @TheStreet: 5 things to watch when $AAPL re...</td>\n",
       "    </tr>\n",
       "  </tbody>\n",
       "</table>\n",
       "</div>"
      ],
      "text/plain": [
       "                                              Tweets\n",
       "0  @serrebi Oh yes, that's one of the great thing...\n",
       "1  I liked a @YouTube video https://t.co/kJHxQMU7...\n",
       "2  RT @JeepdoBrasil: O Jeep Compass foi feito par...\n",
       "3  RT @jimcramer: 5 things @EricJhonsa is watchin...\n",
       "4                                i wanna apple watch\n",
       "5  RT @chickswithcrits: EP 14\\nThe group are afte...\n",
       "6  hurry up&gt;&gt;\\n20% OFF when you spend $65+ ...\n",
       "7  Why Apple's AirPods Are So Popular https://t.c...\n",
       "8  @watchtapp Thank you for the last update! I li...\n",
       "9  RT @TheStreet: 5 things to watch when $AAPL re..."
      ]
     },
     "metadata": {},
     "output_type": "display_data"
    },
    {
     "name": "stdout",
     "output_type": "stream",
     "text": [
      "2019-01-29 19:13:09\n"
     ]
    }
   ],
   "source": [
    "auth = tweepy.OAuthHandler(consumer_key, consumer_secret)\n",
    "auth.set_access_token(access_token, access_token_secret)\n",
    "\n",
    "api = tweepy.API(auth)\n",
    "\n",
    "tweets = api.search('Apple Watch', count=200)\n",
    "\n",
    "\n",
    "data = pd.DataFrame(data=[tweet.text for tweet in tweets], columns=['Tweets'])\n",
    "\n",
    "display(data.head(10))\n",
    "\n",
    "\n",
    "print(tweets[0].created_at)"
   ]
  },
  {
   "cell_type": "code",
   "execution_count": 11,
   "metadata": {},
   "outputs": [
    {
     "name": "stderr",
     "output_type": "stream",
     "text": [
      "[nltk_data] Error loading lexicon: Package 'lexicon' not found in\n",
      "[nltk_data]     index\n",
      "[nltk_data] Downloading package vader_lexicon to\n",
      "[nltk_data]     /home/nishantgautam/nltk_data...\n"
     ]
    },
    {
     "data": {
      "text/plain": [
       "True"
      ]
     },
     "execution_count": 11,
     "metadata": {},
     "output_type": "execute_result"
    }
   ],
   "source": [
    "import nltk\n",
    "nltk.download('lexicon')\n",
    "nltk.download('vader_lexicon')"
   ]
  },
  {
   "cell_type": "code",
   "execution_count": 15,
   "metadata": {},
   "outputs": [
    {
     "data": {
      "text/html": [
       "<div>\n",
       "<style scoped>\n",
       "    .dataframe tbody tr th:only-of-type {\n",
       "        vertical-align: middle;\n",
       "    }\n",
       "\n",
       "    .dataframe tbody tr th {\n",
       "        vertical-align: top;\n",
       "    }\n",
       "\n",
       "    .dataframe thead th {\n",
       "        text-align: right;\n",
       "    }\n",
       "</style>\n",
       "<table border=\"1\" class=\"dataframe\">\n",
       "  <thead>\n",
       "    <tr style=\"text-align: right;\">\n",
       "      <th></th>\n",
       "      <th>Tweets</th>\n",
       "      <th>polarity</th>\n",
       "    </tr>\n",
       "  </thead>\n",
       "  <tbody>\n",
       "    <tr>\n",
       "      <th>0</th>\n",
       "      <td>@serrebi Oh yes, that's one of the great thing...</td>\n",
       "      <td>{'neg': 0.0, 'neu': 0.736, 'pos': 0.264, 'comp...</td>\n",
       "    </tr>\n",
       "    <tr>\n",
       "      <th>1</th>\n",
       "      <td>I liked a @YouTube video https://t.co/kJHxQMU7...</td>\n",
       "      <td>{'neg': 0.0, 'neu': 0.764, 'pos': 0.236, 'comp...</td>\n",
       "    </tr>\n",
       "    <tr>\n",
       "      <th>2</th>\n",
       "      <td>RT @JeepdoBrasil: O Jeep Compass foi feito par...</td>\n",
       "      <td>{'neg': 0.0, 'neu': 1.0, 'pos': 0.0, 'compound...</td>\n",
       "    </tr>\n",
       "    <tr>\n",
       "      <th>3</th>\n",
       "      <td>RT @jimcramer: 5 things @EricJhonsa is watchin...</td>\n",
       "      <td>{'neg': 0.0, 'neu': 1.0, 'pos': 0.0, 'compound...</td>\n",
       "    </tr>\n",
       "    <tr>\n",
       "      <th>4</th>\n",
       "      <td>i wanna apple watch</td>\n",
       "      <td>{'neg': 0.0, 'neu': 1.0, 'pos': 0.0, 'compound...</td>\n",
       "    </tr>\n",
       "    <tr>\n",
       "      <th>5</th>\n",
       "      <td>RT @chickswithcrits: EP 14\\nThe group are afte...</td>\n",
       "      <td>{'neg': 0.073, 'neu': 0.927, 'pos': 0.0, 'comp...</td>\n",
       "    </tr>\n",
       "    <tr>\n",
       "      <th>6</th>\n",
       "      <td>hurry up&amp;gt;&amp;gt;\\n20% OFF when you spend $65+ ...</td>\n",
       "      <td>{'neg': 0.079, 'neu': 0.921, 'pos': 0.0, 'comp...</td>\n",
       "    </tr>\n",
       "    <tr>\n",
       "      <th>7</th>\n",
       "      <td>Why Apple's AirPods Are So Popular https://t.c...</td>\n",
       "      <td>{'neg': 0.0, 'neu': 0.66, 'pos': 0.34, 'compou...</td>\n",
       "    </tr>\n",
       "    <tr>\n",
       "      <th>8</th>\n",
       "      <td>@watchtapp Thank you for the last update! I li...</td>\n",
       "      <td>{'neg': 0.0, 'neu': 0.782, 'pos': 0.218, 'comp...</td>\n",
       "    </tr>\n",
       "    <tr>\n",
       "      <th>9</th>\n",
       "      <td>RT @TheStreet: 5 things to watch when $AAPL re...</td>\n",
       "      <td>{'neg': 0.0, 'neu': 1.0, 'pos': 0.0, 'compound...</td>\n",
       "    </tr>\n",
       "  </tbody>\n",
       "</table>\n",
       "</div>"
      ],
      "text/plain": [
       "                                              Tweets  \\\n",
       "0  @serrebi Oh yes, that's one of the great thing...   \n",
       "1  I liked a @YouTube video https://t.co/kJHxQMU7...   \n",
       "2  RT @JeepdoBrasil: O Jeep Compass foi feito par...   \n",
       "3  RT @jimcramer: 5 things @EricJhonsa is watchin...   \n",
       "4                                i wanna apple watch   \n",
       "5  RT @chickswithcrits: EP 14\\nThe group are afte...   \n",
       "6  hurry up&gt;&gt;\\n20% OFF when you spend $65+ ...   \n",
       "7  Why Apple's AirPods Are So Popular https://t.c...   \n",
       "8  @watchtapp Thank you for the last update! I li...   \n",
       "9  RT @TheStreet: 5 things to watch when $AAPL re...   \n",
       "\n",
       "                                            polarity  \n",
       "0  {'neg': 0.0, 'neu': 0.736, 'pos': 0.264, 'comp...  \n",
       "1  {'neg': 0.0, 'neu': 0.764, 'pos': 0.236, 'comp...  \n",
       "2  {'neg': 0.0, 'neu': 1.0, 'pos': 0.0, 'compound...  \n",
       "3  {'neg': 0.0, 'neu': 1.0, 'pos': 0.0, 'compound...  \n",
       "4  {'neg': 0.0, 'neu': 1.0, 'pos': 0.0, 'compound...  \n",
       "5  {'neg': 0.073, 'neu': 0.927, 'pos': 0.0, 'comp...  \n",
       "6  {'neg': 0.079, 'neu': 0.921, 'pos': 0.0, 'comp...  \n",
       "7  {'neg': 0.0, 'neu': 0.66, 'pos': 0.34, 'compou...  \n",
       "8  {'neg': 0.0, 'neu': 0.782, 'pos': 0.218, 'comp...  \n",
       "9  {'neg': 0.0, 'neu': 1.0, 'pos': 0.0, 'compound...  "
      ]
     },
     "metadata": {},
     "output_type": "display_data"
    }
   ],
   "source": [
    "sid = SentimentIntensityAnalyzer()\n",
    "\n",
    "listy = []\n",
    "\n",
    "for index, row in data.iterrows():\n",
    "  ss = sid.polarity_scores(row[\"Tweets\"])\n",
    "  listy.append(ss)\n",
    "  \n",
    "se = pd.Series(listy)\n",
    "data['polarity'] = se.values\n",
    "\n",
    "display(data.head(10))"
   ]
  },
  {
   "cell_type": "code",
   "execution_count": null,
   "metadata": {},
   "outputs": [],
   "source": []
  }
 ],
 "metadata": {
  "kernelspec": {
   "display_name": "Python 3",
   "language": "python",
   "name": "python3"
  },
  "language_info": {
   "codemirror_mode": {
    "name": "ipython",
    "version": 3
   },
   "file_extension": ".py",
   "mimetype": "text/x-python",
   "name": "python",
   "nbconvert_exporter": "python",
   "pygments_lexer": "ipython3",
   "version": "3.6.7"
  }
 },
 "nbformat": 4,
 "nbformat_minor": 2
}
